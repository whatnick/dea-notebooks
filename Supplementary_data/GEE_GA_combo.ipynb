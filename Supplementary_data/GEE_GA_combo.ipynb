{
 "cells": [
  {
   "cell_type": "markdown",
   "metadata": {},
   "source": [
    "https://gis.stackexchange.com/questions/350771/earth-engine-simplest-way-to-move-from-ee-image-to-array-for-use-in-sklearn"
   ]
  },
  {
   "cell_type": "markdown",
   "metadata": {},
   "source": [
    "### Setup"
   ]
  },
  {
   "cell_type": "markdown",
   "metadata": {},
   "source": [
    "#### Install GEE API"
   ]
  },
  {
   "cell_type": "code",
   "execution_count": null,
   "metadata": {},
   "outputs": [],
   "source": [
    "!pip install -U earthengine-api"
   ]
  },
  {
   "cell_type": "markdown",
   "metadata": {},
   "source": [
    "#### Import modules"
   ]
  },
  {
   "cell_type": "code",
   "execution_count": null,
   "metadata": {},
   "outputs": [],
   "source": [
    "import ee\n",
    "import numpy as np\n",
    "import matplotlib.pyplot as plt\n",
    "import sys\n",
    "import folium\n",
    "import datacube\n",
    "\n",
    "sys.path.append(\"../Scripts\")"
   ]
  },
  {
   "cell_type": "code",
   "execution_count": null,
   "metadata": {},
   "outputs": [],
   "source": [
    "dc = datacube.Datacube(app='WCF')"
   ]
  },
  {
   "cell_type": "markdown",
   "metadata": {},
   "source": [
    "#### Authenticate"
   ]
  },
  {
   "cell_type": "code",
   "execution_count": null,
   "metadata": {},
   "outputs": [],
   "source": [
    "ee.Authenticate()"
   ]
  },
  {
   "cell_type": "code",
   "execution_count": null,
   "metadata": {},
   "outputs": [],
   "source": [
    "ee.Initialize()"
   ]
  },
  {
   "cell_type": "markdown",
   "metadata": {},
   "source": [
    "### Define parameters "
   ]
  },
  {
   "cell_type": "code",
   "execution_count": null,
   "metadata": {},
   "outputs": [],
   "source": [
    "# Define parameters\n",
    "\n",
    "# Dates\n",
    "# NOTE: GEE dates are inclusive and GA are exclusive on the end date\n",
    "start = '2018-01-01'\n",
    "end_ga = '2018-12-31'\n",
    "end_gee = '2019-01-01'\n",
    "\n",
    "# Set the central latitude and longitude\n",
    "central_lat = -35.555439 \n",
    "central_lon = 138.886889"
   ]
  },
  {
   "cell_type": "code",
   "execution_count": null,
   "metadata": {},
   "outputs": [],
   "source": [
    "# Set the buffer to load around the central coordinates\n",
    "buffer = 0.05 # must be small for .sampleRectangle() to work\n",
    "\n",
    "# Compute the bounding box for the study area\n",
    "study_area_lat = (central_lat - buffer, central_lat + buffer)\n",
    "study_area_lon = (central_lon - buffer, central_lon + buffer)"
   ]
  },
  {
   "cell_type": "markdown",
   "metadata": {},
   "source": [
    "### Load GEE imagery"
   ]
  },
  {
   "cell_type": "code",
   "execution_count": null,
   "metadata": {},
   "outputs": [],
   "source": [
    "# Define an area of interest.\n",
    "aoi = ee.Geometry.Polygon(\n",
    "  [[[study_area_lon[0], study_area_lat[0]],\n",
    "    [study_area_lon[0], study_area_lat[1]],\n",
    "    [study_area_lon[1], study_area_lat[1]],\n",
    "    [study_area_lon[1], study_area_lat[0]]]], None, False)\n",
    "\n",
    "# Filter collection to get desired image\n",
    "img = ee.ImageCollection(\"LANDSAT/LC08/C01/T1_SR\")\\\n",
    "        .filterBounds(aoi)\\\n",
    "        .filterDate(start,end_gee)\\\n",
    "        .filter(ee.Filter.lt('CLOUD_COVER',5))\\\n",
    "        .select(['B4', 'B3', 'B2'])\\\n",
    "        .first()\\"
   ]
  },
  {
   "cell_type": "markdown",
   "metadata": {},
   "source": [
    "### Convert image into a numpy array"
   ]
  },
  {
   "cell_type": "code",
   "execution_count": null,
   "metadata": {},
   "outputs": [],
   "source": [
    "# Get 2-d pixel array for AOI - returns feature with 2-D pixel array as property per band.\n",
    "band_arrs = img.sampleRectangle(region=aoi)\n",
    "\n",
    "# Get individual band arrays.\n",
    "band_arr_b4 = band_arrs.get('B2') #B2\n",
    "band_arr_b5 = band_arrs.get('B3') #B3\n",
    "band_arr_b6 = band_arrs.get('B4') #B4\n",
    "\n",
    "# Transfer the arrays from server to client and cast as np array.\n",
    "np_arr_b4 = np.array(band_arr_b4.getInfo())\n",
    "np_arr_b5 = np.array(band_arr_b5.getInfo())\n",
    "np_arr_b6 = np.array(band_arr_b6.getInfo())\n",
    "print(np_arr_b4.shape)\n",
    "print(np_arr_b5.shape)\n",
    "print(np_arr_b6.shape)\n",
    "\n",
    "# Expand the dimensions of the images so they can be concatenated into 3-D.\n",
    "np_arr_b4 = np.expand_dims(np_arr_b4, 2)\n",
    "np_arr_b5 = np.expand_dims(np_arr_b5, 2)\n",
    "np_arr_b6 = np.expand_dims(np_arr_b6, 2)\n",
    "print(np_arr_b4.shape)\n",
    "print(np_arr_b5.shape)\n",
    "print(np_arr_b6.shape)\n",
    "\n",
    "# Stack the individual bands to make a 3-D array.\n",
    "rgb_img = np.concatenate((np_arr_b6, np_arr_b5, np_arr_b4), 2)\n",
    "print(rgb_img.shape)"
   ]
  },
  {
   "cell_type": "markdown",
   "metadata": {},
   "source": [
    "### Display new numpy array"
   ]
  },
  {
   "cell_type": "code",
   "execution_count": null,
   "metadata": {},
   "outputs": [],
   "source": [
    "# Scale the data to [0, 255] to show as an RGB image.\n",
    "rgb_img_test = (255*((rgb_img - 100)/3000)).astype('uint8')\n",
    "plt.imshow(rgb_img_test)\n",
    "plt.show()"
   ]
  },
  {
   "cell_type": "code",
   "execution_count": null,
   "metadata": {},
   "outputs": [],
   "source": [
    "# Convert numpy array to xarray\n",
    "rgb_img_test.shape"
   ]
  },
  {
   "cell_type": "code",
   "execution_count": null,
   "metadata": {},
   "outputs": [],
   "source": [
    "plt.imshow(rgb_img_test[:,:,0])\n",
    "plt.show()"
   ]
  },
  {
   "cell_type": "markdown",
   "metadata": {},
   "source": [
    "### Load GA data"
   ]
  },
  {
   "cell_type": "code",
   "execution_count": null,
   "metadata": {},
   "outputs": [],
   "source": [
    "#Load all data in baseline period available from Near Real Time data\n",
    "wofs = dc.load(\n",
    "              product=['wofs_annual_summary'],\n",
    "              x= study_area_lon,\n",
    "              y= study_area_lat,\n",
    "              time=(start, end_ga),\n",
    "              output_crs='EPSG:4326',\n",
    "              resolution=(-0.0003215434083601286, 0.00026525198938992045),\n",
    "              resampling='cubic'\n",
    ")"
   ]
  },
  {
   "cell_type": "code",
   "execution_count": null,
   "metadata": {},
   "outputs": [],
   "source": [
    "wofs"
   ]
  },
  {
   "cell_type": "code",
   "execution_count": null,
   "metadata": {},
   "outputs": [],
   "source": [
    "0.1/311"
   ]
  },
  {
   "cell_type": "code",
   "execution_count": null,
   "metadata": {},
   "outputs": [],
   "source": [
    "dc.load(product='ls5_nbart_geomedian_annual', x=study_area_lon, y=study_area_lat, time=('1990', '1991'),output_crs='EPSG:3577', resolution=(30, 30), resampling='nearest')"
   ]
  },
  {
   "cell_type": "code",
   "execution_count": null,
   "metadata": {},
   "outputs": [],
   "source": []
  }
 ],
 "metadata": {
  "kernelspec": {
   "display_name": "Python 3",
   "language": "python",
   "name": "python3"
  },
  "language_info": {
   "codemirror_mode": {
    "name": "ipython",
    "version": 3
   },
   "file_extension": ".py",
   "mimetype": "text/x-python",
   "name": "python",
   "nbconvert_exporter": "python",
   "pygments_lexer": "ipython3",
   "version": "3.6.9"
  }
 },
 "nbformat": 4,
 "nbformat_minor": 4
}
