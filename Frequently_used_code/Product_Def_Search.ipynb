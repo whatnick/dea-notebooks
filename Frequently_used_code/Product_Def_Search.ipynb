{
 "cells": [
  {
   "cell_type": "code",
   "execution_count": 1,
   "metadata": {},
   "outputs": [
    {
     "name": "stdout",
     "output_type": "stream",
     "text": [
      "Collecting pygithub\n",
      "  Downloading PyGithub-1.51-py3-none-any.whl (260 kB)\n",
      "\u001b[K     |████████████████████████████████| 260 kB 14.0 MB/s eta 0:00:01\n",
      "\u001b[?25hCollecting backoff\n",
      "  Downloading backoff-1.10.0-py2.py3-none-any.whl (31 kB)\n",
      "Requirement already satisfied: requests>=2.14.0 in /env/lib/python3.6/site-packages (from pygithub) (2.23.0)\n",
      "Collecting pyjwt\n",
      "  Downloading PyJWT-1.7.1-py2.py3-none-any.whl (18 kB)\n",
      "Requirement already satisfied: deprecated in /env/lib/python3.6/site-packages (from pygithub) (1.2.9)\n",
      "Requirement already satisfied: idna<3,>=2.5 in /env/lib/python3.6/site-packages (from requests>=2.14.0->pygithub) (2.9)\n",
      "Requirement already satisfied: certifi>=2017.4.17 in /env/lib/python3.6/site-packages (from requests>=2.14.0->pygithub) (2020.4.5.1)\n",
      "Requirement already satisfied: chardet<4,>=3.0.2 in /env/lib/python3.6/site-packages (from requests>=2.14.0->pygithub) (3.0.4)\n",
      "Requirement already satisfied: urllib3!=1.25.0,!=1.25.1,<1.26,>=1.21.1 in /env/lib/python3.6/site-packages (from requests>=2.14.0->pygithub) (1.24.3)\n",
      "Requirement already satisfied: wrapt<2,>=1.10 in /env/lib/python3.6/site-packages (from deprecated->pygithub) (1.12.1)\n",
      "Installing collected packages: pyjwt, pygithub, backoff\n",
      "Successfully installed backoff-1.10.0 pygithub-1.51 pyjwt-1.7.1\n"
     ]
    }
   ],
   "source": [
    "!pip install pygithub backoff"
   ]
  },
  {
   "cell_type": "code",
   "execution_count": 2,
   "metadata": {},
   "outputs": [],
   "source": [
    "from github import Github, RateLimitExceededException\n",
    "from datacube import Datacube\n",
    "import time\n",
    "import os\n",
    "import backoff\n",
    "import pandas as pd\n",
    "import psycopg2"
   ]
  },
  {
   "cell_type": "code",
   "execution_count": 3,
   "metadata": {},
   "outputs": [],
   "source": [
    "ACCESS_TOKEN = '<access token here>'"
   ]
  },
  {
   "cell_type": "code",
   "execution_count": 4,
   "metadata": {},
   "outputs": [],
   "source": [
    "g = Github(ACCESS_TOKEN)"
   ]
  },
  {
   "cell_type": "code",
   "execution_count": 5,
   "metadata": {},
   "outputs": [],
   "source": [
    "def search_github(keyword):\n",
    "    rate_limit = g.get_rate_limit()\n",
    "    rate = rate_limit.search\n",
    "    if rate.remaining == 0:\n",
    "        print(f'You have 0/{rate.limit} API calls remaining. Reset time: {rate.reset}')\n",
    "        return\n",
    "    else:\n",
    "        print(f'You have {rate.remaining}/{rate.limit} API calls remaining')\n",
    " \n",
    "    query = f'\"{keyword}\" in:file extension:yaml'\n",
    "    result = g.search_code(query, order='desc')\n",
    " \n",
    "    max_size = 100\n",
    "    print(f'Found {result.totalCount} file(s)')\n",
    "    if result.totalCount > max_size:\n",
    "        result = result[:max_size]\n",
    "    ga_results = [file for file in result if 'GeoscienceAustralia' in file.download_url]\n",
    "    if len(ga_results) > 0:\n",
    "        return ga_results[0].download_url"
   ]
  },
  {
   "cell_type": "code",
   "execution_count": 6,
   "metadata": {},
   "outputs": [],
   "source": [
    "dc = Datacube()"
   ]
  },
  {
   "cell_type": "code",
   "execution_count": 7,
   "metadata": {},
   "outputs": [],
   "source": [
    "all_products = dc.list_products()['name']"
   ]
  },
  {
   "cell_type": "code",
   "execution_count": 8,
   "metadata": {},
   "outputs": [],
   "source": [
    "@backoff.on_exception(backoff.expo,RateLimitExceededException,max_time=300)\n",
    "def search_product_yaml(product):\n",
    "    time.sleep(10)\n",
    "    return search_github([f'name: {product}'])"
   ]
  },
  {
   "cell_type": "code",
   "execution_count": 9,
   "metadata": {},
   "outputs": [
    {
     "name": "stdout",
     "output_type": "stream",
     "text": [
      "You have 30/30 API calls remaining\n",
      "Found 0 file(s)\n",
      "You have 27/30 API calls remaining\n",
      "Found 3 file(s)\n",
      "You have 25/30 API calls remaining\n",
      "Found 2 file(s)\n",
      "You have 23/30 API calls remaining\n",
      "Found 2 file(s)\n",
      "You have 21/30 API calls remaining\n",
      "Found 2 file(s)\n",
      "You have 19/30 API calls remaining\n",
      "You have 19/30 API calls remaining\n",
      "Found 2 file(s)\n",
      "You have 28/30 API calls remaining\n",
      "Found 1 file(s)\n",
      "You have 26/30 API calls remaining\n",
      "Found 1 file(s)\n",
      "You have 24/30 API calls remaining\n",
      "Found 1 file(s)\n",
      "You have 22/30 API calls remaining\n",
      "You have 22/30 API calls remaining\n",
      "You have 22/30 API calls remaining\n",
      "Found 0 file(s)\n",
      "You have 27/30 API calls remaining\n",
      "Found 2 file(s)\n",
      "You have 25/30 API calls remaining\n",
      "Found 4 file(s)\n",
      "You have 23/30 API calls remaining\n",
      "Found 4 file(s)\n",
      "You have 21/30 API calls remaining\n",
      "Found 1 file(s)\n",
      "You have 19/30 API calls remaining\n",
      "Found 2 file(s)\n",
      "You have 28/30 API calls remaining\n",
      "Found 1 file(s)\n",
      "You have 26/30 API calls remaining\n",
      "Found 5 file(s)\n",
      "You have 24/30 API calls remaining\n",
      "Found 10 file(s)\n",
      "You have 22/30 API calls remaining\n",
      "Found 5 file(s)\n",
      "You have 20/30 API calls remaining\n",
      "Found 2 file(s)\n",
      "You have 28/30 API calls remaining\n",
      "Found 1 file(s)\n",
      "You have 26/30 API calls remaining\n",
      "Found 2 file(s)\n",
      "You have 24/30 API calls remaining\n",
      "Found 1 file(s)\n",
      "You have 22/30 API calls remaining\n",
      "Found 4 file(s)\n",
      "You have 20/30 API calls remaining\n",
      "Found 10 file(s)\n",
      "You have 29/30 API calls remaining\n",
      "Found 5 file(s)\n",
      "You have 27/30 API calls remaining\n",
      "Found 2 file(s)\n",
      "You have 25/30 API calls remaining\n",
      "Found 1 file(s)\n",
      "You have 23/30 API calls remaining\n",
      "Found 2 file(s)\n",
      "You have 21/30 API calls remaining\n",
      "Found 1 file(s)\n",
      "You have 28/30 API calls remaining\n",
      "Found 2 file(s)\n",
      "You have 26/30 API calls remaining\n",
      "Found 5 file(s)\n",
      "You have 24/30 API calls remaining\n",
      "Found 11 file(s)\n",
      "You have 22/30 API calls remaining\n",
      "Found 5 file(s)\n",
      "You have 20/30 API calls remaining\n",
      "Found 2 file(s)\n",
      "You have 28/30 API calls remaining\n",
      "Found 1 file(s)\n",
      "You have 26/30 API calls remaining\n",
      "Found 2 file(s)\n",
      "You have 24/30 API calls remaining\n",
      "Found 4 file(s)\n",
      "You have 22/30 API calls remaining\n",
      "Found 3 file(s)\n",
      "You have 20/30 API calls remaining\n",
      "Found 3 file(s)\n",
      "You have 28/30 API calls remaining\n",
      "Found 1 file(s)\n",
      "You have 26/30 API calls remaining\n",
      "Found 8 file(s)\n",
      "You have 24/30 API calls remaining\n",
      "Found 3 file(s)\n",
      "You have 22/30 API calls remaining\n",
      "Found 15 file(s)\n",
      "You have 20/30 API calls remaining\n",
      "Found 3 file(s)\n",
      "You have 28/30 API calls remaining\n",
      "Found 8 file(s)\n",
      "You have 26/30 API calls remaining\n",
      "Found 3 file(s)\n",
      "You have 24/30 API calls remaining\n",
      "Found 12 file(s)\n",
      "You have 22/30 API calls remaining\n",
      "Found 3 file(s)\n",
      "You have 20/30 API calls remaining\n",
      "Found 0 file(s)\n",
      "You have 27/30 API calls remaining\n",
      "Found 3 file(s)\n",
      "You have 25/30 API calls remaining\n",
      "Found 1 file(s)\n",
      "You have 23/30 API calls remaining\n",
      "Found 1 file(s)\n",
      "You have 21/30 API calls remaining\n",
      "Found 2 file(s)\n",
      "You have 19/30 API calls remaining\n",
      "Found 2 file(s)\n",
      "You have 28/30 API calls remaining\n",
      "Found 2 file(s)\n",
      "You have 26/30 API calls remaining\n",
      "Found 3 file(s)\n",
      "You have 24/30 API calls remaining\n",
      "Found 6 file(s)\n",
      "You have 22/30 API calls remaining\n",
      "Found 5 file(s)\n",
      "You have 20/30 API calls remaining\n",
      "Found 3 file(s)\n",
      "You have 29/30 API calls remaining\n",
      "Found 3 file(s)\n",
      "You have 27/30 API calls remaining\n",
      "You have 27/30 API calls remaining\n",
      "Found 5 file(s)\n",
      "You have 25/30 API calls remaining\n",
      "Found 3 file(s)\n",
      "You have 23/30 API calls remaining\n",
      "Found 12 file(s)\n"
     ]
    }
   ],
   "source": [
    "product_url = dc.list_products()['name'].apply(search_product_yaml)"
   ]
  },
  {
   "cell_type": "code",
   "execution_count": 10,
   "metadata": {},
   "outputs": [],
   "source": [
    "username = os.getenv('DB_USERNAME')\n",
    "hostname = os.getenv('DB_HOSTNAME')\n",
    "password = os.getenv('DB_PASSWORD')\n",
    "target_db = os.getenv('DB_DATABASE')\n",
    "conn = psycopg2.connect(f\"postgresql://{username}:{password}@{hostname}/{target_db}\")"
   ]
  },
  {
   "cell_type": "code",
   "execution_count": 11,
   "metadata": {},
   "outputs": [],
   "source": [
    "def get_dataset_locations(product):\n",
    "    return pd.read_sql(f\"\"\"\n",
    "    with products as\n",
    "    (select name,id from agdc.dataset_type where name='{product}' ),\n",
    "    dataset_ids as\n",
    "    (select id from agdc.dataset where dataset_type_ref in (select id from products))\n",
    "    select * from agdc.dataset_location where dataset_ref in (select id from dataset_ids)\n",
    "    \"\"\",conn)"
   ]
  },
  {
   "cell_type": "code",
   "execution_count": 12,
   "metadata": {},
   "outputs": [],
   "source": [
    "def get_common_location(product):\n",
    "    return os.path.commonprefix(list(get_dataset_locations(product)['uri_body']))"
   ]
  },
  {
   "cell_type": "code",
   "execution_count": null,
   "metadata": {},
   "outputs": [],
   "source": [
    "product_location = dc.list_products()['name'].apply(get_common_location)"
   ]
  },
  {
   "cell_type": "code",
   "execution_count": null,
   "metadata": {},
   "outputs": [],
   "source": [
    "product_location_dir = product_location.apply(os.path.dirname)"
   ]
  },
  {
   "cell_type": "code",
   "execution_count": null,
   "metadata": {},
   "outputs": [],
   "source": [
    "df = pd.concat([all_products,product_url,product_location_dir], axis=1)\n",
    "df.columns = ['product','definition','location']\n",
    "df"
   ]
  },
  {
   "cell_type": "code",
   "execution_count": null,
   "metadata": {},
   "outputs": [],
   "source": [
    "df.to_csv('sandbox-products.csv',index=False)"
   ]
  },
  {
   "cell_type": "code",
   "execution_count": null,
   "metadata": {},
   "outputs": [],
   "source": []
  }
 ],
 "metadata": {
  "kernelspec": {
   "display_name": "Python 3",
   "language": "python",
   "name": "python3"
  },
  "language_info": {
   "codemirror_mode": {
    "name": "ipython",
    "version": 3
   },
   "file_extension": ".py",
   "mimetype": "text/x-python",
   "name": "python",
   "nbconvert_exporter": "python",
   "pygments_lexer": "ipython3",
   "version": "3.6.9"
  }
 },
 "nbformat": 4,
 "nbformat_minor": 4
}
